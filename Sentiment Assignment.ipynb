{
 "cells": [
  {
   "cell_type": "markdown",
   "id": "7f79baf9",
   "metadata": {},
   "source": [
    "# ADS 509 Sentiment Assignment\n",
    "\n",
    "This notebook holds the Sentiment Assignment for Module 6 in ADS 509, Applied Text Mining. Work through this notebook, writing code and answering questions where required. \n",
    "\n",
    "In a previous assignment you put together Twitter data and lyrics data on two artists. In this assignment we apply sentiment analysis to those data sets. If, for some reason, you did not complete that previous assignment, data to use for this assignment can be found in the assignment materials section of Blackboard. \n"
   ]
  },
  {
   "cell_type": "markdown",
   "id": "96039507",
   "metadata": {},
   "source": [
    "## Import Packages and Data"
   ]
  },
  {
   "cell_type": "code",
   "execution_count": 1,
   "id": "e2d096b7",
   "metadata": {},
   "outputs": [],
   "source": [
    "import os\n",
    "import re\n",
    "import emoji\n",
    "import pandas as pd\n",
    "import numpy as np\n",
    "\n",
    "from collections import Counter, defaultdict\n",
    "from string import punctuation\n",
    "\n",
    "from nltk.corpus import stopwords\n",
    "\n",
    "sw = stopwords.words(\"english\")"
   ]
  },
  {
   "cell_type": "code",
   "execution_count": 2,
   "id": "6ad579a4",
   "metadata": {},
   "outputs": [],
   "source": [
    "## Additional Packages\n",
    "import seaborn as sns\n",
    "import matplotlib.pyplot as plt\n",
    "import emoji\n",
    "import re"
   ]
  },
  {
   "cell_type": "code",
   "execution_count": 3,
   "id": "923b5a86",
   "metadata": {},
   "outputs": [],
   "source": [
    "# change `data_location` to the location of the folder on your machine.\n",
    "data_location = \"/Users/sanjay/Library/CloudStorage/OneDrive-Personal/USD/ADS 509/Module6/\"\n",
    "\n",
    "# These subfolders should still work if you correctly stored the \n",
    "# data from the Module 1 assignment\n",
    "twitter_folder = \"twitter/\"\n",
    "lyrics_folder = \"lyrics/\"\n",
    "\n",
    "positive_words_file = \"positive-words.txt\"\n",
    "negative_words_file = \"negative-words.txt\"\n",
    "tidy_text_file = \"tidytext_sentiments.txt\""
   ]
  },
  {
   "cell_type": "markdown",
   "id": "9d3bf93e",
   "metadata": {},
   "source": [
    "## Data Input\n",
    "\n",
    "Now read in each of the corpora. For the lyrics data, it may be convenient to store the entire contents of the file to make it easier to inspect the titles individually, as you'll do in the last part of the assignment. In the solution, I stored the lyrics data in a dictionary with two dimensions of keys: artist and song. The value was the file contents. A Pandas data frame would work equally well. \n",
    "\n",
    "For the Twitter data, we only need the description field for this assignment. Feel free all the descriptions read it into a data structure. In the solution, I stored the descriptions as a dictionary of lists, with the key being the artist. \n",
    "\n",
    "\n"
   ]
  },
  {
   "cell_type": "markdown",
   "id": "ca435d83",
   "metadata": {},
   "source": [
    "#### Read Lyrics Data"
   ]
  },
  {
   "cell_type": "code",
   "execution_count": 4,
   "id": "37d70801",
   "metadata": {},
   "outputs": [],
   "source": [
    "## Function to read in lyrics from artist directory\n",
    "def read_lyrics(path, prefix):\n",
    "    \n",
    "    artist_df = pd.DataFrame(columns=['Artist', 'Song', 'Lyrics'])\n",
    "    \n",
    "    for filename in os.listdir(path):\n",
    "        \n",
    "        file = open(path+filename,\"r\", encoding='unicode_escape')\n",
    "        song_name = file.readline()\n",
    "        content = file.read()\n",
    "        file.close()\n",
    "        \n",
    "        ## save results to dataframe\n",
    "        new_row = pd.DataFrame({'Song': [song_name], 'Lyrics': [content]})\n",
    "        artist_df = pd.concat([artist_df, new_row])         \n",
    "        \n",
    "    return artist_df\n",
    "\n",
    "\n",
    "# Read in lyrics for Cher\n",
    "path_cher = data_location + lyrics_folder + \"cher/\"\n",
    "prefix_cher = \"cher_\"\n",
    "\n",
    "cher_df = read_lyrics(path_cher, prefix_cher)\n",
    "cher_df['Artist']= 'Cher'\n",
    "\n",
    "\n",
    "# Read in lyrics for Robyn\n",
    "path_robyn = data_location + lyrics_folder + \"robyn/\"\n",
    "prefix_robyn = \"robyn_\"\n",
    "\n",
    "robyn_df = read_lyrics(path_robyn, prefix_robyn)\n",
    "robyn_df['Artist'] = 'Robyn'\n",
    "\n",
    "lyrics_df = pd.concat([cher_df, robyn_df], ignore_index = True)"
   ]
  },
  {
   "cell_type": "markdown",
   "id": "728efd54",
   "metadata": {},
   "source": [
    "##### Quick Processing of Lyrics Data"
   ]
  },
  {
   "cell_type": "code",
   "execution_count": 5,
   "id": "cdc91b09",
   "metadata": {
    "scrolled": true
   },
   "outputs": [
    {
     "name": "stderr",
     "output_type": "stream",
     "text": [
      "/var/folders/j0/d7hvm8k10b933vg5dldl__9h0000gn/T/ipykernel_10505/3862934465.py:2: FutureWarning: The default value of regex will change from True to False in a future version.\n",
      "  lyrics_df['Song'] = lyrics_df['Song'].str.replace(r'\\n', ' ')\n",
      "/var/folders/j0/d7hvm8k10b933vg5dldl__9h0000gn/T/ipykernel_10505/3862934465.py:4: FutureWarning: The default value of regex will change from True to False in a future version.\n",
      "  lyrics_df['Lyrics'] = lyrics_df['Lyrics'].str.replace(r'\\n\\n\\n', '')\n",
      "/var/folders/j0/d7hvm8k10b933vg5dldl__9h0000gn/T/ipykernel_10505/3862934465.py:5: FutureWarning: The default value of regex will change from True to False in a future version.\n",
      "  lyrics_df['Lyrics'] = lyrics_df['Lyrics'].str.replace(r'\\n', ' ')\n"
     ]
    }
   ],
   "source": [
    "lyrics_df['Song'] = lyrics_df['Song'].str.replace('\"', '').str.replace(\"'\", '') \n",
    "lyrics_df['Song'] = lyrics_df['Song'].str.replace(r'\\n', ' ')\n",
    "\n",
    "lyrics_df['Lyrics'] = lyrics_df['Lyrics'].str.replace(r'\\n\\n\\n', '')\n",
    "lyrics_df['Lyrics'] = lyrics_df['Lyrics'].str.replace(r'\\n', ' ')\n",
    "savedLyrics = lyrics_df ## using this to later print lyrics of remianing songs\n",
    "lyrics_df = lyrics_df.drop_duplicates()"
   ]
  },
  {
   "cell_type": "markdown",
   "id": "29dc35ee",
   "metadata": {},
   "source": [
    "#### Read in Twitter Data"
   ]
  },
  {
   "cell_type": "code",
   "execution_count": 6,
   "id": "debcac5a",
   "metadata": {},
   "outputs": [],
   "source": [
    "# Read in the twitter data\n",
    "artist_files = {'cher':'cher_followers_data.txt',\n",
    "                'robyn':'robynkonichiwa_followers_data.txt'}\n",
    "\n",
    "## Read Cher Twitter Data\n",
    "twitter_data = pd.read_csv(data_location + twitter_folder + artist_files['cher'],\n",
    "                           sep=\"\\t\",\n",
    "                           quoting=3)\n",
    "\n",
    "twitter_data['artist'] = \"Cher\"\n",
    "\n",
    "\n",
    "## Read Robyn Twitter Data\n",
    "twitter_data_2 = pd.read_csv(data_location + twitter_folder + artist_files['robyn'],\n",
    "                             sep=\"\\t\",\n",
    "                             quoting=3)\n",
    "twitter_data_2['artist'] = \"Robyn\"\n",
    "\n",
    "twitter_data = pd.concat([\n",
    "    twitter_data,twitter_data_2])\n",
    "    \n",
    "del(twitter_data_2)"
   ]
  },
  {
   "cell_type": "markdown",
   "id": "283353ee",
   "metadata": {},
   "source": [
    "##### Quick Processing of Twitter Data"
   ]
  },
  {
   "cell_type": "code",
   "execution_count": 7,
   "id": "14c7b94a",
   "metadata": {
    "scrolled": true
   },
   "outputs": [
    {
     "data": {
      "text/html": [
       "<div>\n",
       "<style scoped>\n",
       "    .dataframe tbody tr th:only-of-type {\n",
       "        vertical-align: middle;\n",
       "    }\n",
       "\n",
       "    .dataframe tbody tr th {\n",
       "        vertical-align: top;\n",
       "    }\n",
       "\n",
       "    .dataframe thead th {\n",
       "        text-align: right;\n",
       "    }\n",
       "</style>\n",
       "<table border=\"1\" class=\"dataframe\">\n",
       "  <thead>\n",
       "    <tr style=\"text-align: right;\">\n",
       "      <th></th>\n",
       "      <th>description</th>\n",
       "      <th>artist</th>\n",
       "    </tr>\n",
       "  </thead>\n",
       "  <tbody>\n",
       "    <tr>\n",
       "      <th>0</th>\n",
       "      <td>NaN</td>\n",
       "      <td>Cher</td>\n",
       "    </tr>\n",
       "    <tr>\n",
       "      <th>1</th>\n",
       "      <td>𝙿𝚛𝚘𝚞𝚍 𝚜𝚞𝚙𝚙𝚘𝚛𝚝𝚎𝚛 𝚘𝚏 𝚖𝚎𝚜𝚜𝚢 𝚋𝚞𝚗𝚜 &amp; 𝚕𝚎𝚐𝚐𝚒𝚗𝚐𝚜</td>\n",
       "      <td>Cher</td>\n",
       "    </tr>\n",
       "    <tr>\n",
       "      <th>2</th>\n",
       "      <td>163㎝／愛かっぷ💜26歳🍒 工〇好きな女の子💓 フォローしてくれたらDMします🧡</td>\n",
       "      <td>Cher</td>\n",
       "    </tr>\n",
       "    <tr>\n",
       "      <th>3</th>\n",
       "      <td>csu</td>\n",
       "      <td>Cher</td>\n",
       "    </tr>\n",
       "    <tr>\n",
       "      <th>4</th>\n",
       "      <td>Writer @Washinformer @SpelmanCollege alumna #D...</td>\n",
       "      <td>Cher</td>\n",
       "    </tr>\n",
       "    <tr>\n",
       "      <th>...</th>\n",
       "      <td>...</td>\n",
       "      <td>...</td>\n",
       "    </tr>\n",
       "    <tr>\n",
       "      <th>358367</th>\n",
       "      <td>singer of songs, type 1 diabetic, tired $jakel...</td>\n",
       "      <td>Robyn</td>\n",
       "    </tr>\n",
       "    <tr>\n",
       "      <th>358368</th>\n",
       "      <td>Dadx2/ Con-Arch/ Photographer/ DK #stemgrønnes...</td>\n",
       "      <td>Robyn</td>\n",
       "    </tr>\n",
       "    <tr>\n",
       "      <th>358369</th>\n",
       "      <td>A year to change a life is still a year ✨😌</td>\n",
       "      <td>Robyn</td>\n",
       "    </tr>\n",
       "    <tr>\n",
       "      <th>358370</th>\n",
       "      <td>Head of Consumer - Mango. Made in Melbourne. R...</td>\n",
       "      <td>Robyn</td>\n",
       "    </tr>\n",
       "    <tr>\n",
       "      <th>358371</th>\n",
       "      <td>Stand for what is right, even if you stand alone.</td>\n",
       "      <td>Robyn</td>\n",
       "    </tr>\n",
       "  </tbody>\n",
       "</table>\n",
       "<p>2073085 rows × 2 columns</p>\n",
       "</div>"
      ],
      "text/plain": [
       "                                              description artist\n",
       "0                                                     NaN   Cher\n",
       "1                𝙿𝚛𝚘𝚞𝚍 𝚜𝚞𝚙𝚙𝚘𝚛𝚝𝚎𝚛 𝚘𝚏 𝚖𝚎𝚜𝚜𝚢 𝚋𝚞𝚗𝚜 & 𝚕𝚎𝚐𝚐𝚒𝚗𝚐𝚜   Cher\n",
       "2               163㎝／愛かっぷ💜26歳🍒 工〇好きな女の子💓 フォローしてくれたらDMします🧡   Cher\n",
       "3                                                     csu   Cher\n",
       "4       Writer @Washinformer @SpelmanCollege alumna #D...   Cher\n",
       "...                                                   ...    ...\n",
       "358367  singer of songs, type 1 diabetic, tired $jakel...  Robyn\n",
       "358368  Dadx2/ Con-Arch/ Photographer/ DK #stemgrønnes...  Robyn\n",
       "358369         A year to change a life is still a year ✨😌  Robyn\n",
       "358370  Head of Consumer - Mango. Made in Melbourne. R...  Robyn\n",
       "358371  Stand for what is right, even if you stand alone.  Robyn\n",
       "\n",
       "[2073085 rows x 2 columns]"
      ]
     },
     "execution_count": 7,
     "metadata": {},
     "output_type": "execute_result"
    }
   ],
   "source": [
    "twitter_df = twitter_data[['description', 'artist']]\n",
    "twitter_df = twitter_df.drop_duplicates()\n",
    "twitter_df"
   ]
  },
  {
   "cell_type": "markdown",
   "id": "9b829c7b",
   "metadata": {},
   "source": [
    "#### Compute Sentiment Score Values For Provided Lexicon"
   ]
  },
  {
   "cell_type": "code",
   "execution_count": 8,
   "id": "af9e7a4b",
   "metadata": {},
   "outputs": [],
   "source": [
    "# Read in the positive and negative words and the\n",
    "# tidytext sentiment. Store these so that the positive\n",
    "# words are associated with a score of +1 and negative words\n",
    "# are associated with a score of -1. You can use a dataframe or a \n",
    "# dictionary for this.\n",
    "\n",
    "positive_text_file = open(positive_words_file)\n",
    "\n",
    "positive_words = positive_text_file.read().split('\\n')\n",
    "positive_words = [item for item in positive_words if ';' not in item]\n",
    "positive_words = [item for item in positive_words if item != '']\n",
    "positive_words = [item.replace(\"'\", \"\") for item in positive_words]\n",
    "\n",
    "\n",
    "negative_text_file = open(negative_words_file, encoding='unicode_escape')\n",
    "\n",
    "negative_words = negative_text_file.read().split('\\n')\n",
    "negative_words = [item for item in negative_words if ';' not in item]\n",
    "negative_words = [item for item in negative_words if item != '']\n",
    "negative_words = [item.replace(\"'\", \"\") for item in negative_words]"
   ]
  },
  {
   "cell_type": "markdown",
   "id": "a2afb744",
   "metadata": {},
   "source": [
    "### Data Cleansing"
   ]
  },
  {
   "cell_type": "markdown",
   "id": "9bfa0ead",
   "metadata": {},
   "source": [
    "#### Define Text Processing Functions"
   ]
  },
  {
   "cell_type": "code",
   "execution_count": 9,
   "id": "30e153e3",
   "metadata": {},
   "outputs": [],
   "source": [
    "# Some punctuation variations\n",
    "punctuation = set(punctuation) # speeds up comparison\n",
    "tw_punct = punctuation - {\"#\"}\n",
    "\n",
    "def remove_stop(tokens) :\n",
    "    # modify this function to remove stopwords\n",
    "    \n",
    "    return [t for t in tokens if t.lower() not in sw]\n",
    " \n",
    "def remove_punctuation(text, punct_set=tw_punct) : \n",
    "    return(\"\".join([ch for ch in text if ch not in punct_set]))\n",
    "\n",
    "def tokenize(text) : \n",
    "    \"\"\" Splitting on whitespace rather than the book's tokenize function. That \n",
    "        function will drop tokens like '#hashtag' or '2A', which we need for Twitter. \"\"\"\n",
    "    \n",
    "    # modify this function to return tokens\n",
    "   \n",
    "    text = text.split(\" \")\n",
    "    text = list(filter(str.strip, text)) ## removes unnecessary white space characters\n",
    "     \n",
    "    return(text)\n",
    "\n",
    "def prepare(text, pipeline) : \n",
    "    tokens = str(text)\n",
    "    \n",
    "    for transform in pipeline : \n",
    "        tokens = transform(tokens)\n",
    "        \n",
    "    return(tokens)"
   ]
  },
  {
   "cell_type": "markdown",
   "id": "8632d0bf",
   "metadata": {},
   "source": [
    "#### Send Lyrics and Twitter Data through Text Processing Pipeline"
   ]
  },
  {
   "cell_type": "code",
   "execution_count": 10,
   "id": "8e31949b",
   "metadata": {},
   "outputs": [
    {
     "name": "stderr",
     "output_type": "stream",
     "text": [
      "/var/folders/j0/d7hvm8k10b933vg5dldl__9h0000gn/T/ipykernel_10505/3890956624.py:3: SettingWithCopyWarning: \n",
      "A value is trying to be set on a copy of a slice from a DataFrame.\n",
      "Try using .loc[row_indexer,col_indexer] = value instead\n",
      "\n",
      "See the caveats in the documentation: https://pandas.pydata.org/pandas-docs/stable/user_guide/indexing.html#returning-a-view-versus-a-copy\n",
      "  lyrics_df[\"Lyrics\"] = lyrics_df[\"Lyrics\"].apply(prepare,pipeline=my_pipeline)\n"
     ]
    }
   ],
   "source": [
    "my_pipeline = [str.lower, remove_punctuation, tokenize, remove_stop]\n",
    "\n",
    "lyrics_df[\"Lyrics\"] = lyrics_df[\"Lyrics\"].apply(prepare,pipeline=my_pipeline)\n",
    "\n",
    "twitter_df['description'] = twitter_df['description'].apply(prepare,pipeline=my_pipeline)"
   ]
  },
  {
   "cell_type": "markdown",
   "id": "6a5f3b12",
   "metadata": {},
   "source": [
    "## Sentiment Analysis on Songs\n",
    "\n",
    "In this section, score the sentiment for all the songs for both artists in your data set. Score the sentiment by manually calculating the sentiment using the combined lexicons provided in this repository. \n",
    "\n",
    "After you have calculated these sentiments, answer the questions at the end of this section.\n"
   ]
  },
  {
   "cell_type": "code",
   "execution_count": 11,
   "id": "664f8d8f",
   "metadata": {
    "scrolled": true
   },
   "outputs": [
    {
     "name": "stderr",
     "output_type": "stream",
     "text": [
      "/var/folders/j0/d7hvm8k10b933vg5dldl__9h0000gn/T/ipykernel_10505/1033063605.py:26: SettingWithCopyWarning: \n",
      "A value is trying to be set on a copy of a slice from a DataFrame.\n",
      "Try using .loc[row_indexer,col_indexer] = value instead\n",
      "\n",
      "See the caveats in the documentation: https://pandas.pydata.org/pandas-docs/stable/user_guide/indexing.html#returning-a-view-versus-a-copy\n",
      "  lyrics_df['Score'] = lyrics_df['Lyrics'].apply(sent_analysis)\n"
     ]
    },
    {
     "data": {
      "text/html": [
       "<div>\n",
       "<style scoped>\n",
       "    .dataframe tbody tr th:only-of-type {\n",
       "        vertical-align: middle;\n",
       "    }\n",
       "\n",
       "    .dataframe tbody tr th {\n",
       "        vertical-align: top;\n",
       "    }\n",
       "\n",
       "    .dataframe thead th {\n",
       "        text-align: right;\n",
       "    }\n",
       "</style>\n",
       "<table border=\"1\" class=\"dataframe\">\n",
       "  <thead>\n",
       "    <tr style=\"text-align: right;\">\n",
       "      <th></th>\n",
       "      <th>Artist</th>\n",
       "      <th>Song</th>\n",
       "      <th>Lyrics</th>\n",
       "      <th>Score</th>\n",
       "    </tr>\n",
       "  </thead>\n",
       "  <tbody>\n",
       "    <tr>\n",
       "      <th>0</th>\n",
       "      <td>Cher</td>\n",
       "      <td>Come And Stay With Me</td>\n",
       "      <td>[ill, send, away, false, pride, ill, forsake, ...</td>\n",
       "      <td>0.039474</td>\n",
       "    </tr>\n",
       "    <tr>\n",
       "      <th>1</th>\n",
       "      <td>Cher</td>\n",
       "      <td>Pirate</td>\n",
       "      <td>[hell, sail, summer, wind, blows, day, everybo...</td>\n",
       "      <td>0.076923</td>\n",
       "    </tr>\n",
       "    <tr>\n",
       "      <th>2</th>\n",
       "      <td>Cher</td>\n",
       "      <td>Stars</td>\n",
       "      <td>[never, one, saying, really, feel, except, ton...</td>\n",
       "      <td>-0.006289</td>\n",
       "    </tr>\n",
       "    <tr>\n",
       "      <th>3</th>\n",
       "      <td>Cher</td>\n",
       "      <td>These Days</td>\n",
       "      <td>[well, ive, walking, dont, much, talking, days...</td>\n",
       "      <td>0.012346</td>\n",
       "    </tr>\n",
       "    <tr>\n",
       "      <th>4</th>\n",
       "      <td>Cher</td>\n",
       "      <td>Love So High</td>\n",
       "      <td>[every, morning, would, wake, id, tie, sun, ar...</td>\n",
       "      <td>0.103448</td>\n",
       "    </tr>\n",
       "    <tr>\n",
       "      <th>5</th>\n",
       "      <td>Cher</td>\n",
       "      <td>Down, Down, Down</td>\n",
       "      <td>[every, begin, push, rock, mountain, though, i...</td>\n",
       "      <td>-0.038462</td>\n",
       "    </tr>\n",
       "    <tr>\n",
       "      <th>6</th>\n",
       "      <td>Cher</td>\n",
       "      <td>Youve Made Me So Very Happy</td>\n",
       "      <td>[ive, lost, love, got, mad, closed, door, said...</td>\n",
       "      <td>0.175000</td>\n",
       "    </tr>\n",
       "    <tr>\n",
       "      <th>7</th>\n",
       "      <td>Cher</td>\n",
       "      <td>Julie</td>\n",
       "      <td>[cheap, lips, lie, hungry, ears, well, backsli...</td>\n",
       "      <td>-0.113821</td>\n",
       "    </tr>\n",
       "    <tr>\n",
       "      <th>8</th>\n",
       "      <td>Cher</td>\n",
       "      <td>Reason To Believe</td>\n",
       "      <td>[listen, long, enough, id, find, way, believe,...</td>\n",
       "      <td>0.014085</td>\n",
       "    </tr>\n",
       "    <tr>\n",
       "      <th>9</th>\n",
       "      <td>Cher</td>\n",
       "      <td>Disaster Cake</td>\n",
       "      <td>[youre, gonna, make, omelette, gotta, break, e...</td>\n",
       "      <td>-0.046632</td>\n",
       "    </tr>\n",
       "  </tbody>\n",
       "</table>\n",
       "</div>"
      ],
      "text/plain": [
       "  Artist                          Song  \\\n",
       "0   Cher        Come And Stay With Me    \n",
       "1   Cher                       Pirate    \n",
       "2   Cher                        Stars    \n",
       "3   Cher                   These Days    \n",
       "4   Cher                 Love So High    \n",
       "5   Cher             Down, Down, Down    \n",
       "6   Cher  Youve Made Me So Very Happy    \n",
       "7   Cher                        Julie    \n",
       "8   Cher            Reason To Believe    \n",
       "9   Cher                Disaster Cake    \n",
       "\n",
       "                                              Lyrics     Score  \n",
       "0  [ill, send, away, false, pride, ill, forsake, ...  0.039474  \n",
       "1  [hell, sail, summer, wind, blows, day, everybo...  0.076923  \n",
       "2  [never, one, saying, really, feel, except, ton... -0.006289  \n",
       "3  [well, ive, walking, dont, much, talking, days...  0.012346  \n",
       "4  [every, morning, would, wake, id, tie, sun, ar...  0.103448  \n",
       "5  [every, begin, push, rock, mountain, though, i... -0.038462  \n",
       "6  [ive, lost, love, got, mad, closed, door, said...  0.175000  \n",
       "7  [cheap, lips, lie, hungry, ears, well, backsli... -0.113821  \n",
       "8  [listen, long, enough, id, find, way, believe,...  0.014085  \n",
       "9  [youre, gonna, make, omelette, gotta, break, e... -0.046632  "
      ]
     },
     "execution_count": 11,
     "metadata": {},
     "output_type": "execute_result"
    }
   ],
   "source": [
    "# your code here\n",
    "pos_score = 1\n",
    "neg_score = -1\n",
    "word_dict = {}\n",
    "\n",
    "# Adding the positive words to the dictionary\n",
    "for word in positive_words:\n",
    "        word_dict[word] = pos_score\n",
    "        \n",
    "# Adding the negative words to the dictionary\n",
    "for word in negative_words:\n",
    "        word_dict[word] = neg_score\n",
    "        \n",
    "#sorted_keys = sorted(word_dict.keys())\n",
    "\n",
    "#for key in sorted_keys:\n",
    "    #print(key, word_dict[key])\n",
    "    \n",
    "def sent_analysis(column):\n",
    "    sentiment_score = 0\n",
    "    for word in column:\n",
    "        if word in word_dict:\n",
    "            sentiment_score += word_dict[word]\n",
    "    return sentiment_score / len(column)\n",
    "\n",
    "lyrics_df['Score'] = lyrics_df['Lyrics'].apply(sent_analysis)\n",
    "lyrics_df.head(10)"
   ]
  },
  {
   "cell_type": "markdown",
   "id": "6e9d7625",
   "metadata": {},
   "source": [
    "### Questions\n",
    "\n",
    "__Q:__ Overall, which artist has the higher average sentiment per song? "
   ]
  },
  {
   "cell_type": "code",
   "execution_count": 12,
   "id": "bd845404",
   "metadata": {},
   "outputs": [
    {
     "name": "stdout",
     "output_type": "stream",
     "text": [
      "Cher's Lyrics' average sentiment score is: 0.0292\n",
      "\n",
      "Robyns's Lyrics' average sentiment score is: 0.0252\n",
      "\n"
     ]
    }
   ],
   "source": [
    "cher_lyrics = lyrics_df.loc[lyrics_df['Artist'].isin(['Cher'])]\n",
    "robyn_lyrics = lyrics_df.loc[lyrics_df['Artist'].isin(['Robyn'])]\n",
    "\n",
    "print(\"Cher's Lyrics' average sentiment score is:\", cher_lyrics['Score'].mean().round(4))\n",
    "print(\"\")\n",
    "print(\"Robyns's Lyrics' average sentiment score is:\", robyn_lyrics['Score'].mean().round(4))\n",
    "print(\"\")"
   ]
  },
  {
   "cell_type": "markdown",
   "id": "2612021e",
   "metadata": {},
   "source": [
    "__A:__ Cher seems to have the higher average sentiment per song when compared to Robyn with 0.0292 vs 0.0252\n",
    "\n",
    "---"
   ]
  },
  {
   "cell_type": "markdown",
   "id": "33b6739e",
   "metadata": {},
   "source": [
    "__Q:__ For your first artist, what are the three songs that have the highest and lowest sentiments? Print the lyrics of those songs to the screen. What do you think is driving the sentiment score? "
   ]
  },
  {
   "cell_type": "code",
   "execution_count": 13,
   "id": "ce30d348",
   "metadata": {},
   "outputs": [
    {
     "name": "stdout",
     "output_type": "stream",
     "text": [
      "Cher's 3 highest sentiment songs are:                         Song     Score\n",
      "15                  My Love   0.536585\n",
      "137                 Move Me   0.355263\n",
      "146  Love And Understanding   0.282895\n"
     ]
    }
   ],
   "source": [
    "print(\"Cher's 3 highest sentiment songs are:\", cher_lyrics[['Song', 'Score']].sort_values(by='Score', ascending = False).head(3))"
   ]
  },
  {
   "cell_type": "code",
   "execution_count": 14,
   "id": "f5c5df3f",
   "metadata": {},
   "outputs": [
    {
     "name": "stdout",
     "output_type": "stream",
     "text": [
      "My Love \n",
      "When I go away I know my heart can stay with my love It's understood Everywhere with my love My love does it good, whoa My love, oh only my love My love does it good  And when the cupboard's bare I'll still find something there with my love It's understood Everywhere with my love My love does it so good, whoa My love, oh only my love My love does it good  Only my love, oh only my love Only my love, hold the other things to me Oh, only my love, oh only my love Only my love does it good to me  Everywhere with my love Don't you see my love It does it so good Oh, only my love, only my love My love does it good  Don't ever ask me why I never say \"good-bye\" to my love It's understood 'Cause everywhere with my love My love does it good, whoa Only my love, oh only my love My love does it good  Oh only my love Only my love does it good to me,whoa \n",
      "\n",
      "Move Me \n",
      "Move me Love the way you move me, baby Groove me Love the way you groove me  Making love with you Little things that you do Make me feel so good inside  Oh oh do me C'mon, c'mon, do me Baby Soothe me Love the way you soothe me I love I love I love I love I love I love Love the way you do  Move me Love the way you move me, baby Groove me Love the way you groove me  Making love with you Little things that you do Make me feel so good inside  I love, I love, I love the way you move me Keep on, keep on doin' it I love, I love, I love the way you move me Keep on, keep on doin' it I love, I love, I love the way you move me Keep on, keep on, doin' it [Fade out] \n",
      "\n",
      "Love And Understanding \n",
      "Here, here in this world Where do we go? Where can we turn? When we need some love It seems that love just can't be found Where, where do we stand? When love's supply don't meet love's demand  We got enough stars to light the sky at night Enough sun to make to make the whole world bright We got more than enough But there's one thing there's just not enough of  Not enough love and understanding We could use some love to ease these troubled times Not enough love and understanding Why, oh why?  Spend all of our time Building buildings up to the sky Reaching everywhere But where we need to reach the most Hearts never can win Oh, in this race, this race that we're in  We've got enough cars to drive around the world Enough planes to take us anywhere We got more than enough But there's one thing there's just not enough of  Not enough love and understanding We could use some love to ease these troubled times Not enough love and understanding Why, oh why?  Not enough love and understanding We could use some love to ease these troubled times Not enough love and understanding Why, oh why?  We need some understandin' We need a little more love Some love and understandin'  Enough stars to light the sky at night Enough sun to make the whole world bright Enough hearts to find some love inside We got more than enough But there's one thing there's just not enough of  Not enough love and understanding We could use some love to ease these troubled times Not enough love and understanding Why, oh why? ... \n",
      "\n"
     ]
    }
   ],
   "source": [
    "## Print Highest Sentiment Songs using the index of song in dataframe\n",
    "\n",
    "print(savedLyrics.iloc[15, 1])\n",
    "print(savedLyrics.iloc[15, 2])\n",
    "print(\"\")\n",
    "\n",
    "print(savedLyrics.iloc[137, 1])\n",
    "print(savedLyrics.iloc[137, 2])\n",
    "print(\"\")\n",
    "\n",
    "print(savedLyrics.iloc[146, 1])\n",
    "print(savedLyrics.iloc[146, 2])\n",
    "print(\"\")"
   ]
  },
  {
   "cell_type": "code",
   "execution_count": 15,
   "id": "f2bc34e4",
   "metadata": {
    "scrolled": true
   },
   "outputs": [
    {
     "name": "stdout",
     "output_type": "stream",
     "text": [
      "Cher's 3 lowest sentiment songs are:                              Song     Score\n",
      "240          Cry Myself To Sleep  -0.216667\n",
      "158                   Outrageous  -0.181102\n",
      "171  I Walk On Guilded Splinters  -0.158228\n"
     ]
    }
   ],
   "source": [
    "print(\"Cher's 3 lowest sentiment songs are:\", cher_lyrics[['Song', 'Score']].sort_values(by='Score', ascending = True).head(3))"
   ]
  },
  {
   "cell_type": "code",
   "execution_count": 16,
   "id": "0b78f613",
   "metadata": {},
   "outputs": [
    {
     "name": "stdout",
     "output_type": "stream",
     "text": [
      "Cry Myself To Sleep \n",
      "Every night, I lay my head On my pillow on my bed And I just cry myself to sleep  I know I shouldn't cry Over words that were all lies But still, I cry myself to sleep  Each night, I fight the tears But still they fall And all the memories linger on He's gone, he's gone And now there's nothing but to cry Cry myself to sleep Still, I cry myself to sleep  Each night, I fight those tears But still, they fall And all the memories linger on He's gone, he's gone, he's gone And now there's nothing but to cry Ah, cry myself to sleep Ah, cry myself to sleep Ah, cry myself to sleep \n",
      "\n",
      "Outrageous \n",
      "Outrageous, outrageous (They say) I'm outrageous It's the rage  I'm gonna wear what I will and spend some And I will be dress to kill don'tcha know And when the lights come up I'm ready I'm ready To put on a show with class And if I clash it's cause I want to What a show and I want everyone to know They're gonna fly up, get an eyeful Everything that's craved from me I'm gonna be, I'm gonna be outrageous  Outrageous (They say) I'm outrageous It's the rage it's the rage  With my long black hair hanging way down to my Ask me no questions and I'll tell you no lies Don't tell me what to do don't tell me what to be See I don't trust anybody else's traits about make-up and me  Well in my show I let everything go Is what you want is whatcha wanna see from me But when the curtain comes down And you're on your way back home I change into my jeans that are split at the seam I grab my funky black jacket and make quite a racket You drive like you're an outlaw Cause everything that's craved from me I'm gonna be, I'm gonna be outrageous  So outrageous I'm outrageous honey yes a rage It's the rage Outrageous, outrageous I'm outrageous It's the rage it's a rage Outrageous, outrageous They say I'm outrageous \n",
      "\n",
      "I Walk On Guilded Splinters \n",
      "Some people think they jive me, but I know they must be crazy They can't see their misfortune, or else they're just too lazy Je suie le grand zombie With my yellow chaffen of choisen Ain't afraid of no tomcat and gonna fill my guts with poison I walk through the fire And I'll fly through the smoke I wanna see my enemies On the end of my rope Walk on pins and needles And I see what they can do Walk on guilded splinters With the King of the Zulu  Come to me, get it, come, come Walk on guilded splinters Come to me, get it, come, come Walk on guilded splinters Till I burn up Till I burn up Till I burn up Till I burn up  When I roll out in my coffin Drink poison in my chalice Pride begins to fade And you all feel my malice I put gris-gris on your doorstep So soon you be in the gutter I'll make your heart melt like butter I say I can make you stutter  Come to me, get it, come, come Walk on guilded splinters Come to me, get it, come, come Walk on guilded splinters Till I burn up Till I burn up Till I burn up Till I burn up  Come to me, get it, come, come Walk on guilded splinters Come to me, get it, come, come Walk on guilded splinters Till I burn up Till I burn up Till I burn up Till I burn up  Come to me, get it, come, come Walk on guilded splinters Come to me, get it, come, come Walk on guilded splinters Till I burn up Till I burn up Till I burn up Till I burn up \n",
      "\n"
     ]
    }
   ],
   "source": [
    "## Print Lowest Sentiment Songs using the index of song in dataframe\n",
    "\n",
    "print(savedLyrics.iloc[240, 1])\n",
    "print(savedLyrics.iloc[240, 2])\n",
    "print(\"\")\n",
    "\n",
    "print(savedLyrics.iloc[158, 1])\n",
    "print(savedLyrics.iloc[158, 2])\n",
    "print(\"\")\n",
    "\n",
    "print(savedLyrics.iloc[171, 1])\n",
    "print(savedLyrics.iloc[171, 2])\n",
    "print(\"\")"
   ]
  },
  {
   "cell_type": "markdown",
   "id": "aa34f04d",
   "metadata": {},
   "source": [
    "__A:__ Cher's 3 songs with the highest sentiment are My Love, Move Me, and Love And Understanding which all 3 seem to be traditional love things that share about the joy of being in love. Thus it is clear why these songs would have higher sentiment.\n",
    "\n",
    "Cher's 3 songs with the lowest sentiment are Cry Myself To Sleep, Outrageous, and I Walk On Guilded Splinters. Those 3 songs seem to have themes of being either angry or upset and so it seems natural that they would be categorized as having lower sentiment. \n",
    "\n",
    "---"
   ]
  },
  {
   "cell_type": "markdown",
   "id": "0e51600c",
   "metadata": {},
   "source": [
    "__Q:__ For your second artist, what are the three songs that have the highest and lowest sentiments? Print the lyrics of those songs to the screen. What do you think is driving the sentiment score? "
   ]
  },
  {
   "cell_type": "code",
   "execution_count": 17,
   "id": "db18d514",
   "metadata": {},
   "outputs": [
    {
     "name": "stdout",
     "output_type": "stream",
     "text": [
      "Robyns's 3 highest sentiment songs are:                                       Song     Score\n",
      "337                          Love Is Free   0.319489\n",
      "389                        Indestructible   0.143646\n",
      "415  Do You Really Want Me (Show Respect)   0.140187\n"
     ]
    }
   ],
   "source": [
    "print(\"Robyns's 3 highest sentiment songs are:\", robyn_lyrics[['Song', 'Score']].sort_values(by='Score', ascending = False).head(3))"
   ]
  },
  {
   "cell_type": "code",
   "execution_count": 18,
   "id": "3908501e",
   "metadata": {},
   "outputs": [
    {
     "name": "stdout",
     "output_type": "stream",
     "text": [
      "Love Is Free \n",
      "Free Love is free, baby Free Love is free, baby Boom boom boom boom boom chica boom Let me give it to you, baby Chica boom chica boom chica boom Chica boom chica boom chica boom Free Love is free, baby Free Love is free, baby Boom boom boom boom boom chica boom Let me give it to you, baby  I'ma give it to you, baby I'ma give it when I'm ready Some lose, some steady Some light, some heavy It's all over this city Sometimes in the ugly, sometimes in the pretty You never know where you get it cause you can't control it and you can't unfold it, slow down  I'ma give it to you, baby I'ma give it when I'm ready Some lose, some steady Some light, some heavy It's all over this city Sometimes in the ugly, sometimes in the pretty You never know where you get it cause you can't control it and you can't unfold it, slow down  Free Love is free, baby Free Love is free, baby Boom boom boom boom boom chica boom Let me give it to you, baby Yeah! Yeah! Yeah! Yeah! Love is free, baby Love is free, baby  I'ma give it to you, baby I'ma give it like a motha Safe like a rubber Mutter like a stutter It's all over this city Sometimes in the nitty, sometimes in the gritty You know I'ma give it to you better I'ma give you love forever No, you can't control it, slow down  I'ma give it to you, baby I'ma give it like a motha Safe like a rubber Mutter like a stutter It's all over this city Sometimes in the nitty, sometimes in the gritty You know I'ma give it to you better I'ma give you love forever No, you can't control it, slow down  Free Love is free, baby Free Love is free, baby Boom boom boom boom boom chica boom Let me give it to you, baby Boom boom boom boom boom Chica boom chica boom chica boom Boom boom boom boom boom Chica boom chica boom chica boom Free Love is free, baby Free Love is free, baby  AprÃÂ©ndelo, aprÃÂ©ndelo Te lo digo right now, sÃÂ³lo entiÃÂ©ndelo AprÃÂ©ndelo, aprÃÂ©ndelo Te lo digo right now, sÃÂ³lo entiÃÂ©ndelo Slow down  AprÃÂ©ndelo, aprÃÂ©ndelo Te lo digo right now, sÃÂ³lo entiÃÂ©ndelo AprÃÂ©ndelo, aprÃÂ©ndelo Te lo digo right now, sÃÂ³lo entiÃÂ©ndelo Slow down  I'ma give it to you, baby I'ma give it when I'm ready Some lose, some steady Some light, some heavy It's all over this city Sometimes in the ugly, sometimes in the pretty You never know where you get it cause you can't control it and you can't unfold it, slow down  Slow down [x6] Free Love is free, baby Love is free, baby So free [x4] You know Love is free So free Free Ã¢ÂÂ Love is free, baby [x8] So free \n",
      "\n",
      "Indestructible \n",
      "I'm going backwards through time at the speed of light I'm yours, you're mine Two satellites Not alone No, we're not alone  A freeze-frame of your eye in the strobe light Sweat dripping down from your brow Hold tight Don't let go Don't you let me go  And I never was smart with love I let the bad ones in and the good ones go  But I'm gonna love you like I've never been hurt before I'm gonna love you like I'm indestructible Your love is ultramagnetic And it's taking over This is hardcore And I'm indestructible  Hands up in the air like we don't care We're shooting deep into space And the lasers split the dark Cut right through the dark  It's just us. We ignore the crowd dancing Fall to the floor Beats in my heart Put your hands on my heart  And I never was smart with love I let the bad ones in and the good ones go  But I'm gonna love you like I've never been hurt before I'm gonna love you like I'm indestructible Your love is ultramagnetic And it's taking over This is hardcore  Ooh and I'm gonna love you like  I'm gonna love you like I've never been hurt before I'm gonna love you like I'm indestructible Your love is ultramagnetic And it's taking over This is hardcore And I'm indestructible  And I never was smart with love I let the bad ones in and the good ones go  But I'm gonna love you like I've never been hurt before I'm gonna love you like I'm indestructible Your love is ultramagnetic And it's taking over This is hardcore  Ooh and I'm gonna love you like  I'm gonna love you like I've never been hurt before I'm gonna love you like I'm indestructible Your love is ultramagnetic And it's taking over This is hardcore And I'm indestructible \n",
      "\n",
      "Do You Really Want Me (Show Respect) \n",
      "Boy listen to me careful now Cause this is something every man should know Oh this is a lesson about how You treat your girl right just let it show That you love her that you need her say That you want her in every way You gotta show your girl a little respect Or you won't get nothing back but hate It's those little things that mean so much You gotta treat her right  Or get out of her sight  Do you really want me am I really special Taking is so easy boys giving is unusual If you really want me don't make we wait too long Respect and love is the key just listen to my song  Safe is how she wants to feel Protect her with all you've got Oh she wants to know your love's for real And be a good lover make her hot Then she'll do everything love you day and night She'll do anything just do her right It's those little things that mean so much You gotta treat her right  Or get out of her sight  [Chorus]  Girls don't give up, give your best No part time job, no time to rest Let him know what's up before so he can give you more and more \n",
      "\n"
     ]
    }
   ],
   "source": [
    "## Print Highest Sentiment Songs using the index of song in dataframe\n",
    "\n",
    "print(savedLyrics.iloc[337, 1])\n",
    "print(savedLyrics.iloc[337, 2])\n",
    "print(\"\")\n",
    "\n",
    "print(savedLyrics.iloc[389, 1])\n",
    "print(savedLyrics.iloc[389, 2])\n",
    "print(\"\")\n",
    "\n",
    "print(savedLyrics.iloc[415, 1])\n",
    "print(savedLyrics.iloc[415, 2])\n",
    "print(\"\")"
   ]
  },
  {
   "cell_type": "code",
   "execution_count": 19,
   "id": "1a874be0",
   "metadata": {
    "scrolled": true
   },
   "outputs": [
    {
     "name": "stdout",
     "output_type": "stream",
     "text": [
      "Robyns's 3 lowest sentiment songs are:                                  Song     Score\n",
      "369  Dont Fucking Tell Me What To Do  -0.436782\n",
      "332                  Criminal Intent  -0.185053\n",
      "411              Crash And Burn Girl  -0.147651\n"
     ]
    }
   ],
   "source": [
    "print(\"Robyns's 3 lowest sentiment songs are:\", robyn_lyrics[['Song', 'Score']].sort_values(by='Score', ascending = True).head(3))"
   ]
  },
  {
   "cell_type": "code",
   "execution_count": 20,
   "id": "bf7e7def",
   "metadata": {},
   "outputs": [
    {
     "name": "stdout",
     "output_type": "stream",
     "text": [
      "Dont Fucking Tell Me What To Do \n",
      "My drinking is killing me My drinking is killing me My drinking is killing me My drinking is killing me My drinking is killing me My drinking is killing me My drinking is killing me My drinking is killing me My drinking is killing me My drinking is killing me My drinking is killing me My drinking is killing me My drinking is killing me My drinking is killing me My drinking is killing me  My smoking is killing me My diet is killing me My heels are killing me My shopping's killing me My ego is killing me Can't sleep, it's killing me My label's killing me Kickdrum  My phone is killing me My email is killing me These hours are killing me My tour is killing me This flight is killing me My manager's killing me My mother's killing me My landlord's killing me My boss is killing me The TV is killing me Your nagging is killing me My boyfriend's killing me My talking's killing me Killing me Killing me  Can't sleep, it's killing me My dreams are killing me TV is killing me My talking's killing me Let go, you're killing me Ease up, you're killing me Calm down, you're killing me My god, you're killing me  My drinking is killing me My smoking is killing me My head is killing me My mind is killing me My back is killing me My neck is killing me Your nagging is killing me My gut is killing me My PMS is killing me My email is killing me These hours are killing me My tour is killing me This flight is killing me My manager's killing me My mother's killing me My landlord's killing me My smoking is killing me The TV is killing me Your nagging is killing me Ease up, you're killing me Let go, you're killing me Calm down, you're killing me My god, you're killing me  Don't fucking tell me what to do, do Don't fucking tell me what to do, do, do, do, do Don't fucking tell me what to do Don't fucking tell me what to do, do Don't fucking tell me what to do, do Don't fucking tell me what to do Don't fucking tell me what to do Don't fucking tell me what to do Don't fucking tell me what to do \n",
      "\n",
      "Criminal Intent \n",
      "Somebody alert the authorities, I got criminal intent Conspiracy to engage in lewd and indecent acts and events I'mma wind it, grind it, oh my, I'mma say it again Somebody alert the authorities, she's got criminal intent  Somebody alert the authorities, I got criminal intent Conspiracy to engage in lewd and indecent acts and events I'mma wind it, grind it, oh my, I'mma say it again Somebody alert the authorities, she's got criminal intent  Somebody alert the authorities, I got criminal intent Conspiracy to engage in lewd and indecent acts and events I'mma wind it, grind it, oh my, I'mma say it again Somebody alert the authorities, I got criminal intent  - Will the defendant please rise? State your full name for the record. - Robyn - Do you wish to say anything before the sentence is imposed? - I do your Honor!  You know, from time to time I need to get down Unwind and just bump and grind Get my shot on, have some fun A little dirty never hurt anyone I admit, I can get somewhat X-rated on the floor But your Honor, how's that something you get incarcerated for?  I-I-I done nothing that's wrong  ?? something that's frowned upon I object most strongly Judge, they played my song  Somebody alert the authorities, I got criminal intent Conspiracy to engage in lewd and indecent acts and events I'mma wind it, grind it, oh my, I'mma say it again Somebody alert the authorities, she's got criminal intent  Somebody alert the authorities, I got criminal intent Conspiracy to engage in lewd and indecent acts and events I'mma wind it, grind it, oh my, I'mma say it again Somebody alert the authorities, I got criminal intent Somebody alert the authorities, she's got criminal intent  Y-yo-yo Judge, may the record reflect the fact  I don't have any priors Besides, would you pardon me  For being inappropriately attired? But yo, listen, them cuffs down at county Totally ripped up my pantyhose And some snitch punk at legal aid Stole my voucher for court clothes  I done nothing that's wrong  ?? something that's frowned upon I object most strongly Judge, they played my song  Somebody alert the authorities, I got criminal intent Conspiracy to engage in lewd and indecent acts and events I'mma wind it, grind it, oh my, I'mma say it again Somebody alert the authorities, she's got criminal intent  Somebody alert the authorities, I got criminal intent Conspiracy to engage in lewd and indecent acts and events I'mma wind it, grind it, oh my, I'mma say it again Somebody alert the authorities, I got criminal intent Somebody alert the authorities, she's got criminal intent \n",
      "\n",
      "Crash And Burn Girl \n",
      "I should write a song about you and all the shit that you do You don't even know what's up But soon it all comes crashing down on you Since we're on the subject tell me why your name's in the dictionary when I look up idiot Check yourself, it's very necessary  Get up shake your rump girl Cause this track is for you And baby this is not a love song  Stop listen what's that sound Supersonic spinning round You don't mind the fall  until your face hits the ground  Crash and burn girl goin' down down down down down Crash and burn girl You don't mind the fall  until your face hits the ground  You should have a sticker on you saying Warning Keep Out You're the kind of girl that'll mess you up for life that's smashing up his car crying on his doorstep waiting in the rain all night And did you tell him you're the kind that never show your ugly side until you sticking like glue Shit you even go down on him though he never do it for you Time to clear the runway for the  Stop listen what's that sound Supersonic spinning round You don't mind the fall  until your face hits the ground  It's just that every time you mess it up like that I see myself in you I've been there too And there's so many times I stand beside and see what you are going through Where you're headed to  Crash and burn girl goin' down down down down Crash and burn girl You don't mind the fall  until your face hits the ground  Crash and burn girl You keep on banging your head Girl your shirt's all red  Crash and burn girl You don't mind the fall  until your face hits the ground \n",
      "\n"
     ]
    }
   ],
   "source": [
    "## Print Lowest Sentiment Songs using the index of song in dataframe\n",
    "\n",
    "print(savedLyrics.iloc[369, 1])\n",
    "print(savedLyrics.iloc[369, 2])\n",
    "print(\"\")\n",
    "\n",
    "print(savedLyrics.iloc[332, 1])\n",
    "print(savedLyrics.iloc[332, 2])\n",
    "print(\"\")\n",
    "\n",
    "print(savedLyrics.iloc[411, 1])\n",
    "print(savedLyrics.iloc[411, 2])\n",
    "print(\"\")"
   ]
  },
  {
   "cell_type": "markdown",
   "id": "a9f75bd2",
   "metadata": {},
   "source": [
    "__A:__ Robyn's top 3 songs with the highest sentiment are Love Is Free, Indestructible, and Do You Really Want Me (Show Respect). Similar to Cher's highest sentiment songs, these 3 songs appear to be more romantic love songs or party songs. As those songs are usually listened to have fun and be in a good mood, it seems inutitive that they would have high sentiment.\n",
    "\n",
    "Robyn's 3 songs with the lowest sentiment are Dont F___ing Tell Me What To Do, Criminal Intent, and Crash And Burn Girl. These songs have very dark lyrics centered around committing crime or harm. Knowing that, it's very clear why they would have low sentiment.\n",
    "\n",
    "---"
   ]
  },
  {
   "cell_type": "markdown",
   "id": "1f8334f4",
   "metadata": {},
   "source": [
    "__Q:__ Plot the distributions of the sentiment scores for both artists. You can use `seaborn` to plot densities or plot histograms in matplotlib."
   ]
  },
  {
   "cell_type": "code",
   "execution_count": 21,
   "id": "d8185d48",
   "metadata": {},
   "outputs": [
    {
     "data": {
      "image/png": "[encoded data removed]",
      "text/plain": [
       "<Figure size 640x480 with 1 Axes>"
      ]
     },
     "metadata": {},
     "output_type": "display_data"
    }
   ],
   "source": [
    "sns.kdeplot(data = lyrics_df, x=\"Score\", hue=\"Artist\", fill=True, alpha=0.4)\n",
    "plt.grid()\n",
    "plt.show()"
   ]
  },
  {
   "cell_type": "markdown",
   "id": "2cefa25c",
   "metadata": {},
   "source": [
    "#### Here is an additional plot zoomed in closer to the center to see where there may be a difference in the majority of sentiment recordings for each artist."
   ]
  },
  {
   "cell_type": "code",
   "execution_count": 22,
   "id": "eba806e0",
   "metadata": {},
   "outputs": [
    {
     "data": {
      "image/png": "[encoded data removed]",
      "text/plain": [
       "<Figure size 640x480 with 1 Axes>"
      ]
     },
     "metadata": {},
     "output_type": "display_data"
    }
   ],
   "source": [
    "sns.kdeplot(data = lyrics_df, x=\"Score\", hue=\"Artist\", fill=True, alpha=0.4)\n",
    "plt.xlim(-0.2, 0.2)\n",
    "plt.grid()\n",
    "plt.show()"
   ]
  },
  {
   "cell_type": "markdown",
   "id": "b3fe644d",
   "metadata": {},
   "source": [
    "## Sentiment Analysis on Twitter Descriptions\n",
    "\n",
    "In this section, define two sets of emojis you designate as positive and negative. Make sure to have at least 10 emojis per set. You can learn about the most popular emojis on Twitter at [the emojitracker](https://emojitracker.com/). \n",
    "\n",
    "Associate your positive emojis with a score of +1, negative with -1. Score the average sentiment of your two artists based on the Twitter descriptions of their followers. The average sentiment can just be the total score divided by number of followers. You do not need to calculate sentiment on non-emoji content for this section."
   ]
  },
  {
   "cell_type": "code",
   "execution_count": 23,
   "id": "1a5c1d25",
   "metadata": {
    "scrolled": false
   },
   "outputs": [
    {
     "data": {
      "text/html": [
       "<div>\n",
       "<style scoped>\n",
       "    .dataframe tbody tr th:only-of-type {\n",
       "        vertical-align: middle;\n",
       "    }\n",
       "\n",
       "    .dataframe tbody tr th {\n",
       "        vertical-align: top;\n",
       "    }\n",
       "\n",
       "    .dataframe thead th {\n",
       "        text-align: right;\n",
       "    }\n",
       "</style>\n",
       "<table border=\"1\" class=\"dataframe\">\n",
       "  <thead>\n",
       "    <tr style=\"text-align: right;\">\n",
       "      <th></th>\n",
       "      <th>description</th>\n",
       "      <th>artist</th>\n",
       "      <th>Score</th>\n",
       "    </tr>\n",
       "  </thead>\n",
       "  <tbody>\n",
       "    <tr>\n",
       "      <th>0</th>\n",
       "      <td>[nan]</td>\n",
       "      <td>Cher</td>\n",
       "      <td>0.000000</td>\n",
       "    </tr>\n",
       "    <tr>\n",
       "      <th>1</th>\n",
       "      <td>[𝙿𝚛𝚘𝚞𝚍, 𝚜𝚞𝚙𝚙𝚘𝚛𝚝𝚎𝚛, 𝚘𝚏, 𝚖𝚎𝚜𝚜𝚢, 𝚋𝚞𝚗𝚜, 𝚕𝚎𝚐𝚐𝚒𝚗𝚐𝚜]</td>\n",
       "      <td>Cher</td>\n",
       "      <td>0.000000</td>\n",
       "    </tr>\n",
       "    <tr>\n",
       "      <th>2</th>\n",
       "      <td>[163㎝／愛かっぷ💜26歳🍒, 工〇好きな女の子💓, フォローしてくれたらdmします🧡]</td>\n",
       "      <td>Cher</td>\n",
       "      <td>0.000000</td>\n",
       "    </tr>\n",
       "    <tr>\n",
       "      <th>3</th>\n",
       "      <td>[csu]</td>\n",
       "      <td>Cher</td>\n",
       "      <td>0.000000</td>\n",
       "    </tr>\n",
       "    <tr>\n",
       "      <th>4</th>\n",
       "      <td>[writer, washinformer, spelmancollege, alumna,...</td>\n",
       "      <td>Cher</td>\n",
       "      <td>0.000000</td>\n",
       "    </tr>\n",
       "    <tr>\n",
       "      <th>6</th>\n",
       "      <td>[i’m, unemployed, live, parents, moops]</td>\n",
       "      <td>Cher</td>\n",
       "      <td>-0.200000</td>\n",
       "    </tr>\n",
       "    <tr>\n",
       "      <th>7</th>\n",
       "      <td>[zoowee, mama]</td>\n",
       "      <td>Cher</td>\n",
       "      <td>0.000000</td>\n",
       "    </tr>\n",
       "    <tr>\n",
       "      <th>9</th>\n",
       "      <td>[let, healing, begin, let, us, learn, past, 🇨🇦...</td>\n",
       "      <td>Cher</td>\n",
       "      <td>0.000000</td>\n",
       "    </tr>\n",
       "    <tr>\n",
       "      <th>10</th>\n",
       "      <td>[thou, wilt, 🖤✨]</td>\n",
       "      <td>Cher</td>\n",
       "      <td>-0.333333</td>\n",
       "    </tr>\n",
       "    <tr>\n",
       "      <th>12</th>\n",
       "      <td>[curious, canadian, contemplator, sheher, sexa...</td>\n",
       "      <td>Cher</td>\n",
       "      <td>0.000000</td>\n",
       "    </tr>\n",
       "  </tbody>\n",
       "</table>\n",
       "</div>"
      ],
      "text/plain": [
       "                                          description artist     Score\n",
       "0                                               [nan]   Cher  0.000000\n",
       "1       [𝙿𝚛𝚘𝚞𝚍, 𝚜𝚞𝚙𝚙𝚘𝚛𝚝𝚎𝚛, 𝚘𝚏, 𝚖𝚎𝚜𝚜𝚢, 𝚋𝚞𝚗𝚜, 𝚕𝚎𝚐𝚐𝚒𝚗𝚐𝚜]   Cher  0.000000\n",
       "2       [163㎝／愛かっぷ💜26歳🍒, 工〇好きな女の子💓, フォローしてくれたらdmします🧡]   Cher  0.000000\n",
       "3                                               [csu]   Cher  0.000000\n",
       "4   [writer, washinformer, spelmancollege, alumna,...   Cher  0.000000\n",
       "6             [i’m, unemployed, live, parents, moops]   Cher -0.200000\n",
       "7                                      [zoowee, mama]   Cher  0.000000\n",
       "9   [let, healing, begin, let, us, learn, past, 🇨🇦...   Cher  0.000000\n",
       "10                                   [thou, wilt, 🖤✨]   Cher -0.333333\n",
       "12  [curious, canadian, contemplator, sheher, sexa...   Cher  0.000000"
      ]
     },
     "execution_count": 23,
     "metadata": {},
     "output_type": "execute_result"
    }
   ],
   "source": [
    "rows_to_drop = twitter_df['description'].str.len() == 0\n",
    "twitter_df = twitter_df.drop(twitter_df[rows_to_drop].index)\n",
    "\n",
    "twitter_df['Score'] = twitter_df['description'].apply(sent_analysis)\n",
    "twitter_df.head(10)"
   ]
  },
  {
   "cell_type": "code",
   "execution_count": 24,
   "id": "a9a8665b",
   "metadata": {
    "scrolled": true
   },
   "outputs": [
    {
     "data": {
      "text/html": [
       "<div>\n",
       "<style scoped>\n",
       "    .dataframe tbody tr th:only-of-type {\n",
       "        vertical-align: middle;\n",
       "    }\n",
       "\n",
       "    .dataframe tbody tr th {\n",
       "        vertical-align: top;\n",
       "    }\n",
       "\n",
       "    .dataframe thead th {\n",
       "        text-align: right;\n",
       "    }\n",
       "</style>\n",
       "<table border=\"1\" class=\"dataframe\">\n",
       "  <thead>\n",
       "    <tr style=\"text-align: right;\">\n",
       "      <th></th>\n",
       "      <th>description</th>\n",
       "      <th>artist</th>\n",
       "      <th>Score</th>\n",
       "    </tr>\n",
       "  </thead>\n",
       "  <tbody>\n",
       "    <tr>\n",
       "      <th>2400021</th>\n",
       "      <td>[spooky]</td>\n",
       "      <td>Cher</td>\n",
       "      <td>-1.0</td>\n",
       "    </tr>\n",
       "    <tr>\n",
       "      <th>115214</th>\n",
       "      <td>[fuck]</td>\n",
       "      <td>Robyn</td>\n",
       "      <td>-1.0</td>\n",
       "    </tr>\n",
       "    <tr>\n",
       "      <th>310331</th>\n",
       "      <td>[bum]</td>\n",
       "      <td>Cher</td>\n",
       "      <td>-1.0</td>\n",
       "    </tr>\n",
       "    <tr>\n",
       "      <th>3654023</th>\n",
       "      <td>[sick]</td>\n",
       "      <td>Cher</td>\n",
       "      <td>-1.0</td>\n",
       "    </tr>\n",
       "    <tr>\n",
       "      <th>755841</th>\n",
       "      <td>[fuck]</td>\n",
       "      <td>Cher</td>\n",
       "      <td>-1.0</td>\n",
       "    </tr>\n",
       "    <tr>\n",
       "      <th>...</th>\n",
       "      <td>...</td>\n",
       "      <td>...</td>\n",
       "      <td>...</td>\n",
       "    </tr>\n",
       "    <tr>\n",
       "      <th>3277972</th>\n",
       "      <td>[love, love]</td>\n",
       "      <td>Cher</td>\n",
       "      <td>1.0</td>\n",
       "    </tr>\n",
       "    <tr>\n",
       "      <th>914567</th>\n",
       "      <td>[sexy]</td>\n",
       "      <td>Cher</td>\n",
       "      <td>1.0</td>\n",
       "    </tr>\n",
       "    <tr>\n",
       "      <th>520445</th>\n",
       "      <td>[best]</td>\n",
       "      <td>Cher</td>\n",
       "      <td>1.0</td>\n",
       "    </tr>\n",
       "    <tr>\n",
       "      <th>2749637</th>\n",
       "      <td>[boom]</td>\n",
       "      <td>Cher</td>\n",
       "      <td>1.0</td>\n",
       "    </tr>\n",
       "    <tr>\n",
       "      <th>328671</th>\n",
       "      <td>[fun, loving, educated]</td>\n",
       "      <td>Cher</td>\n",
       "      <td>1.0</td>\n",
       "    </tr>\n",
       "  </tbody>\n",
       "</table>\n",
       "<p>2068320 rows × 3 columns</p>\n",
       "</div>"
      ],
      "text/plain": [
       "                     description artist  Score\n",
       "2400021                 [spooky]   Cher   -1.0\n",
       "115214                    [fuck]  Robyn   -1.0\n",
       "310331                     [bum]   Cher   -1.0\n",
       "3654023                   [sick]   Cher   -1.0\n",
       "755841                    [fuck]   Cher   -1.0\n",
       "...                          ...    ...    ...\n",
       "3277972             [love, love]   Cher    1.0\n",
       "914567                    [sexy]   Cher    1.0\n",
       "520445                    [best]   Cher    1.0\n",
       "2749637                   [boom]   Cher    1.0\n",
       "328671   [fun, loving, educated]   Cher    1.0\n",
       "\n",
       "[2068320 rows x 3 columns]"
      ]
     },
     "execution_count": 24,
     "metadata": {},
     "output_type": "execute_result"
    }
   ],
   "source": [
    "twitter_df = twitter_df.sort_values(by='Score')\n",
    "twitter_df"
   ]
  },
  {
   "cell_type": "markdown",
   "id": "bf0a796b",
   "metadata": {},
   "source": [
    "### Questions"
   ]
  },
  {
   "cell_type": "markdown",
   "id": "ccb29d73",
   "metadata": {},
   "source": [
    "__Q:__ What is the average sentiment of your two artists? "
   ]
  },
  {
   "cell_type": "code",
   "execution_count": 25,
   "id": "f6978985",
   "metadata": {},
   "outputs": [
    {
     "name": "stdout",
     "output_type": "stream",
     "text": [
      "Cher's followers' average sentiment score is: 0.0445\n",
      "Robyns's followers' average sentiment score is: 0.0279\n"
     ]
    }
   ],
   "source": [
    "cher_twitter = twitter_df.loc[twitter_df['artist'].isin(['Cher'])]\n",
    "robyn_twitter = twitter_df.loc[twitter_df['artist'].isin(['Robyn'])]\n",
    "\n",
    "print(\"Cher's followers' average sentiment score is:\", cher_twitter['Score'].mean().round(4))\n",
    "print(\"Robyns's followers' average sentiment score is:\", robyn_twitter['Score'].mean().round(4))"
   ]
  },
  {
   "cell_type": "markdown",
   "id": "68efb54b",
   "metadata": {},
   "source": [
    "__A:__ The average sentiment for Cher's Twitter followers is 0.0445 while the average sentiment for Robyn's followers is only 0.0279. This means that Cher's average sentiment is almost double that of Robyn's followers.\n",
    "\n",
    "---"
   ]
  },
  {
   "cell_type": "markdown",
   "id": "fb92eb93",
   "metadata": {},
   "source": [
    "Q: Which positive emoji is the most popular for each artist? Which negative emoji? "
   ]
  },
  {
   "cell_type": "code",
   "execution_count": 26,
   "id": "f19f8156",
   "metadata": {},
   "outputs": [],
   "source": [
    "## this will return all the descriptions into one string\n",
    "def flatten(l):\n",
    "    return [item for sublist in l for item in sublist]\n",
    "\n",
    "cher_tokens = flatten(cher_twitter['description'])\n",
    "robyn_tokens = flatten(robyn_twitter['description'])"
   ]
  },
  {
   "cell_type": "code",
   "execution_count": 27,
   "id": "40ffcfa3",
   "metadata": {},
   "outputs": [],
   "source": [
    "## returns only the emojis in the string\n",
    "def find_emoji(text):\n",
    "    return ''.join(emojis for emojis in text if emojis in emoji.UNICODE_EMOJI['en'])\n",
    "\n",
    "cher_emojis = find_emoji(cher_tokens)\n",
    "robyn_emojis = find_emoji(robyn_tokens)"
   ]
  },
  {
   "cell_type": "code",
   "execution_count": 28,
   "id": "03bdb973",
   "metadata": {},
   "outputs": [],
   "source": [
    "## creates dictionary of emoji frequency\n",
    "def count_emojis(text):\n",
    "    emoji_dict = {}\n",
    "    for character in text:\n",
    "        if character in emoji.UNICODE_EMOJI['en']:\n",
    "            if character in emoji_dict:\n",
    "                emoji_dict[character] += 1\n",
    "            else:\n",
    "                emoji_dict[character] = 1\n",
    "    return emoji_dict\n",
    "\n",
    "cher_emoji_dict = count_emojis(cher_emojis)\n",
    "robyn_emoji_dict = count_emojis(robyn_emojis)"
   ]
  },
  {
   "cell_type": "code",
   "execution_count": 29,
   "id": "30a13805",
   "metadata": {},
   "outputs": [
    {
     "name": "stdout",
     "output_type": "stream",
     "text": [
      "\n",
      "\n"
     ]
    }
   ],
   "source": [
    "print(find_emoji(positive_words))\n",
    "print(find_emoji(negative_words))"
   ]
  },
  {
   "cell_type": "markdown",
   "id": "fdeb9a8f",
   "metadata": {},
   "source": [
    "The print statements above show that there are no emoji's in the positive or negative words lists. This means that we must delineate positive vs negative emojis in a different manner."
   ]
  },
  {
   "cell_type": "code",
   "execution_count": 30,
   "id": "0df92bf6",
   "metadata": {},
   "outputs": [],
   "source": [
    "## save dictionaries as dataframes for easier sorting\n",
    "cher_emoji_df = pd.DataFrame.from_dict(cher_emoji_dict, orient='index')\n",
    "robyn_emoji_df = pd.DataFrame.from_dict(robyn_emoji_dict, orient='index')\n",
    "\n",
    "cher_emoji_df = cher_emoji_df.sort_values(by=cher_emoji_df.columns[0], ascending = False)\n",
    "robyn_emoji_df = robyn_emoji_df.sort_values(by=robyn_emoji_df.columns[0], ascending = False)"
   ]
  },
  {
   "cell_type": "code",
   "execution_count": 31,
   "id": "2ebdb83f",
   "metadata": {},
   "outputs": [
    {
     "name": "stdout",
     "output_type": "stream",
     "text": [
      "Cher's Top 10 Emojis\n",
      "       0\n",
      "❤  23932\n",
      "🌈  18828\n",
      "🏳  14455\n",
      "♥  11508\n",
      "✨   7978\n",
      "🏻   6094\n",
      "✌   4529\n",
      "🏼   4279\n",
      "♀   4050\n",
      "💙   3595\n",
      "Robyn's Top 10 Emojis\n",
      "      0\n",
      "🌈  2208\n",
      "🏳  1765\n",
      "❤  1617\n",
      "♥  1211\n",
      "✨   719\n",
      "🏻   569\n",
      "🏼   413\n",
      "✌   393\n",
      "♀   324\n",
      "🎶   267\n"
     ]
    }
   ],
   "source": [
    "print(\"Cher's Top 10 Emojis\")\n",
    "print(cher_emoji_df.head(10))\n",
    "\n",
    "print(\"Robyn's Top 10 Emojis\")\n",
    "print(robyn_emoji_df.head(10))"
   ]
  },
  {
   "cell_type": "markdown",
   "id": "a7a728d0",
   "metadata": {},
   "source": [
    "__A:__ Because our lexicon lists for positive and negative words did not contain emojis, I decided to print the top 10 frequenct emojis for followers of both Cher and Robyn to compare by looking what are the most frequent positive and negative emojis.\n",
    "\n",
    "For Cher's followers, the most common negative emoji appears to be the black hear whereas the most common positive emoji is the rainbow flag.\n",
    "\n",
    "For Robyn's followers, the most common negative emoji appears to be the small black heart again, whereas the most positive emoji is again the rainbow flag. The difference here though with Robyn's followers as compared to Cher's followers is that the most common positive emoji is more frequent than the most common negative emoji."
   ]
  }
 ],
 "metadata": {
  "kernelspec": {
   "display_name": "Python 3 (ipykernel)",
   "language": "python",
   "name": "python3"
  },
  "language_info": {
   "codemirror_mode": {
    "name": "ipython",
    "version": 3
   },
   "file_extension": ".py",
   "mimetype": "text/x-python",
   "name": "python",
   "nbconvert_exporter": "python",
   "pygments_lexer": "ipython3",
   "version": "3.10.9"
  }
 },
 "nbformat": 4,
 "nbformat_minor": 5
}
